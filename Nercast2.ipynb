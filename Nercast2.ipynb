{
  "nbformat": 4,
  "nbformat_minor": 0,
  "metadata": {
    "colab": {
      "provenance": [],
      "authorship_tag": "ABX9TyPcZ1lwwfhq0KE7JNSkTMAi",
      "include_colab_link": true
    },
    "kernelspec": {
      "name": "python3",
      "display_name": "Python 3"
    },
    "language_info": {
      "name": "python"
    }
  },
  "cells": [
    {
      "cell_type": "markdown",
      "metadata": {
        "id": "view-in-github",
        "colab_type": "text"
      },
      "source": [
        "<a href=\"https://colab.research.google.com/github/gellwanger/AppReceitas/blob/main/Nercast2.ipynb\" target=\"_parent\"><img src=\"https://colab.research.google.com/assets/colab-badge.svg\" alt=\"Open In Colab\"/></a>"
      ]
    },
    {
      "cell_type": "markdown",
      "source": [
        "## Imports"
      ],
      "metadata": {
        "id": "zztnNZzzok_G"
      }
    },
    {
      "cell_type": "code",
      "execution_count": 102,
      "metadata": {
        "id": "YPGBii8wEIk9"
      },
      "outputs": [],
      "source": [
        "import requests\n",
        "from bs4 import BeautifulSoup as bs\n",
        "import time\n",
        "import pandas as pd\n",
        "import re"
      ]
    },
    {
      "cell_type": "markdown",
      "source": [
        "## Import Selenium"
      ],
      "metadata": {
        "id": "_IPCiPV8os3A"
      }
    },
    {
      "cell_type": "code",
      "source": [
        "%%capture\n",
        "\n",
        "!pip install selenium\n",
        "!apt-get update\n",
        "!apt install chromium-chromedriver\n",
        "from selenium import webdriver\n",
        "from selenium.webdriver.common.by import By\n",
        "\n",
        "options = webdriver.ChromeOptions()\n",
        "options.add_argument('--headless')\n",
        "options.add_argument('--no-sandbox')\n",
        "options.add_argument('--disable-dev-shm-usage')\n",
        "driver = webdriver.Chrome(options=options)"
      ],
      "metadata": {
        "id": "2r7I-ayWELBx"
      },
      "execution_count": 103,
      "outputs": []
    },
    {
      "cell_type": "markdown",
      "source": [
        "## Get API"
      ],
      "metadata": {
        "id": "S97DmP17o06M"
      }
    },
    {
      "cell_type": "code",
      "source": [
        "url = 'https://jovemnerd.com.br/nerdcast/'\n",
        "\n",
        "get_api = requests.get(url)\n",
        "\n",
        "text = get_api.text"
      ],
      "metadata": {
        "id": "nr5VluiXEbHT"
      },
      "execution_count": 104,
      "outputs": []
    },
    {
      "cell_type": "markdown",
      "source": [
        "## Load Soup"
      ],
      "metadata": {
        "id": "iIutds5Zo4jN"
      }
    },
    {
      "cell_type": "code",
      "source": [
        "soup = bs(text,  features='html.parser')"
      ],
      "metadata": {
        "id": "wEHW152REdYW"
      },
      "execution_count": 105,
      "outputs": []
    },
    {
      "cell_type": "markdown",
      "source": [
        "## Load Selenium"
      ],
      "metadata": {
        "id": "DRxCgeRFo7Jq"
      }
    },
    {
      "cell_type": "code",
      "source": [
        "driver = webdriver.Chrome(options=options)\n",
        "\n",
        "driver.get(url)\n",
        "\n",
        "driver.find_element(By.CLASS_NAME, 'text-button-cookie').click()"
      ],
      "metadata": {
        "id": "12LV5pvBEdbN"
      },
      "execution_count": 106,
      "outputs": []
    },
    {
      "cell_type": "markdown",
      "source": [
        "## Load List"
      ],
      "metadata": {
        "id": "pCLoxqhWo_-w"
      }
    },
    {
      "cell_type": "code",
      "source": [
        "list = []\n",
        "\n",
        "list2 = []\n",
        "\n",
        "list3 = []\n"
      ],
      "metadata": {
        "id": "RsAmDMPCEdew"
      },
      "execution_count": 107,
      "outputs": []
    },
    {
      "cell_type": "markdown",
      "source": [
        "## Load Page\n"
      ],
      "metadata": {
        "id": "NUg633ClpUNX"
      }
    },
    {
      "cell_type": "code",
      "source": [
        "driver.find_element(By.ID, 'show-more-podcasts').click()\n",
        "\n",
        "time.sleep(10)\n",
        "\n",
        "new_html = driver.page_source\n",
        "\n",
        "soup = bs(new_html, 'html.parser')"
      ],
      "metadata": {
        "id": "6LSQU6G0Um11"
      },
      "execution_count": 108,
      "outputs": []
    },
    {
      "cell_type": "markdown",
      "source": [
        "## Loop\n"
      ],
      "metadata": {
        "id": "X3pWNmFsSp9l"
      }
    },
    {
      "cell_type": "code",
      "source": [
        "i = 1\n",
        "\n",
        "while i < 50:\n",
        "    button = driver.find_element(By.ID, 'show-more-podcasts')\n",
        "    style_value = button.get_attribute('style')\n",
        "\n",
        "\n",
        "    button.click()\n",
        "    time.sleep(5)\n",
        "    new_html = driver.page_source\n",
        "    soup = bs(new_html, 'html.parser')\n",
        "\n",
        "    i += 1\n",
        "    print(f'Iteração {i}')\n",
        "\n",
        "    if i >= 12:\n",
        "      time.sleep(5)\n",
        "      new_html = driver.page_source\n",
        "      soup = bs(new_html, 'html.parser')\n",
        "\n",
        "      get_podcast = soup.find_all('a', class_='cat-item product-nerdcast')\n",
        "\n",
        "      get_podcast_name = soup.find_all('h2', class_='title')\n",
        "\n",
        "      get_podcast_duration = soup.find_all('time', class_='postedon')\n",
        "\n",
        "      list.extend(get_podcast)\n",
        "      list2.extend(get_podcast_name)\n",
        "      list3.extend(get_podcast_duration)\n",
        "\n",
        "      print(f'Coleta concluída, com o arquivo {list[-1].text}!')\n",
        "      break"
      ],
      "metadata": {
        "id": "qdT1tSjDSr1-",
        "colab": {
          "base_uri": "https://localhost:8080/"
        },
        "outputId": "37fcf81b-a0f9-4471-adb6-267bebf75b24"
      },
      "execution_count": 109,
      "outputs": [
        {
          "output_type": "stream",
          "name": "stdout",
          "text": [
            "Iteração 2\n",
            "Iteração 3\n",
            "Iteração 4\n",
            "Iteração 5\n",
            "Iteração 6\n",
            "Iteração 7\n",
            "Iteração 8\n",
            "Iteração 9\n",
            "Iteração 10\n",
            "Iteração 11\n",
            "Iteração 12\n",
            "Coleta concluída, com o arquivo Vai te Catar 25!\n"
          ]
        }
      ]
    },
    {
      "cell_type": "markdown",
      "source": [
        "## Data Output"
      ],
      "metadata": {
        "id": "GfF9fMylSm7h"
      }
    },
    {
      "cell_type": "code",
      "source": [
        "df = pd.DataFrame(columns=['Podcast', 'Link'])"
      ],
      "metadata": {
        "id": "YQuY2blUBNDb"
      },
      "execution_count": 137,
      "outputs": []
    },
    {
      "cell_type": "code",
      "source": [
        "for item in list:\n",
        "  df.loc[df.shape[0]] = [item.text.strip(), item['href']]"
      ],
      "metadata": {
        "id": "i_0emlg6S5Na"
      },
      "execution_count": 138,
      "outputs": []
    },
    {
      "cell_type": "code",
      "source": [
        "df = df[df['Podcast'] != '2011 - 2012 - 2022 - 2023']\n",
        "df = df[df['Podcast'] != '2017 - 2020']\n",
        "df = df[df['Podcast'] != '2013 - 2016']\n"
      ],
      "metadata": {
        "id": "TTJt2hFTKlTF"
      },
      "execution_count": 139,
      "outputs": []
    },
    {
      "cell_type": "code",
      "source": [
        "df.insert(0, 'ID', 1)\n",
        "df['ID'] = range(1, len(df) + 1)"
      ],
      "metadata": {
        "id": "U1unn2YZU94F"
      },
      "execution_count": 140,
      "outputs": []
    },
    {
      "cell_type": "code",
      "source": [
        "df2 = pd.DataFrame(columns=['Assunto', 'Link'])"
      ],
      "metadata": {
        "id": "PYPlMw3CsivT"
      },
      "execution_count": 141,
      "outputs": []
    },
    {
      "cell_type": "code",
      "source": [
        "for item in list2:\n",
        "  df2.loc[df2.shape[0]] = [item.text.strip(), item.find('a')['href']]"
      ],
      "metadata": {
        "id": "SCjJCzrksi1v"
      },
      "execution_count": 142,
      "outputs": []
    },
    {
      "cell_type": "code",
      "source": [
        "list_of_numbers = []\n",
        "\n",
        "for item in df['Podcast']:\n",
        "\n",
        "  this = any(char.isdigit() for char in item)\n",
        "\n",
        "  if this is False:\n",
        "    item.index\n",
        "    result_string = ''.join(item)\n",
        "\n",
        "    list_of_numbers.append(result_string)\n",
        "\n",
        "  else:\n",
        "    pass"
      ],
      "metadata": {
        "id": "n9N6m60VLF6D"
      },
      "execution_count": 143,
      "outputs": []
    },
    {
      "cell_type": "code",
      "source": [
        "df2.insert(0, 'ID', 1)\n",
        "df2['ID'] = range(1, len(df2) + 1)"
      ],
      "metadata": {
        "id": "q02gMWbaPwHz"
      },
      "execution_count": 144,
      "outputs": []
    },
    {
      "cell_type": "code",
      "source": [
        "for item in list_of_numbers:\n",
        "  df = df[df['Podcast'] != item]"
      ],
      "metadata": {
        "id": "cvqgjMshMf7H"
      },
      "execution_count": 145,
      "outputs": []
    },
    {
      "cell_type": "code",
      "source": [
        "list_text = []\n",
        "\n",
        "\n",
        "for item in df['Podcast']:\n",
        "  this = re.split(r'[0-9]', item)\n",
        "\n",
        "  list_text.extend(this)"
      ],
      "metadata": {
        "id": "ANmemBWmtnCx"
      },
      "execution_count": 146,
      "outputs": []
    },
    {
      "cell_type": "code",
      "source": [
        "print(list_text)"
      ],
      "metadata": {
        "colab": {
          "base_uri": "https://localhost:8080/"
        },
        "id": "7I-bN1Um-OMM",
        "outputId": "4be8a268-d23c-4e24-b2f1-01010a92a635"
      },
      "execution_count": 155,
      "outputs": [
        {
          "output_type": "stream",
          "name": "stdout",
          "text": [
            "['Caneca de Mamicas ', '', '', '', 'NerdCast ', '', '', '', 'NerdTech ', '', '', 'Lá do Bunker ', '', '', '', 'Caneca de Mamicas ', '', '', '', 'NerdCast ', '', '', '', 'Papo de Parceiro ', '', '', 'Lá do Bunker ', '', '', '', 'Caneca de Mamicas ', '', '', '', 'NerdCast ', '', '', '', 'Lá do Bunker ', '', '', '', 'Caneca de Mamicas ', '', '', '', 'NerdCast ', '', '', '', 'Lá do Bunker ', '', '', '', 'Caneca de Mamicas ', '', '', '', 'NerdCast ', '', '', '', 'NerdTech ', '', '', 'Lá do Bunker ', '', '', '', 'Caneca de Mamicas ', '', '', '', 'NerdCast ', '', '', '', 'NerdTech ', '', '', 'Lá do Bunker ', '', '', '', 'Caneca de Mamicas ', '', '', '', 'NerdCast ', '', '', '', 'Lá do Bunker ', '', '', '', 'Caneca de Mamicas ', '', '', '', 'NerdCast ', '', '', '', 'Papo de Parceiro ', '', '', 'Lá do Bunker ', '', '', '', 'Caneca de Mamicas ', '', '', '', 'NerdCast ', '', '', '', 'Lá do Bunker ', '', '', '', 'Caneca de Mamicas ', '', '', '', 'NerdCast ', '', '', '', 'Lá do Bunker ', '', '', '', 'Caneca de Mamicas ', '', '', '', 'NerdCast ', '', '', '', 'NerdTech ', '', '', 'Lá do Bunker ', '', '', '', 'Caneca de Mamicas ', '', '', '', 'NerdCast ', '', '', '', 'Papo de Parceiro ', '', '', 'Lá do Bunker ', '', '', '', 'Caneca de Mamicas ', '', '', '', 'NerdCast ', '', '', '', 'Lá do Bunker ', '', '', '', 'Caneca de Mamicas ', '', '', '', 'NerdCast ', '', '', '', 'Lá do Bunker ', '', '', '', 'Caneca de Mamicas ', '', '', '', 'NerdCast ', '', '', '', 'NerdTech ', '', '', 'Lá do Bunker ', '', '', '', 'Caneca de Mamicas ', '', '', '', 'NerdCast ', '', '', '', 'Lá do Bunker ', '', '', '', 'Caneca de Mamicas ', '', '', '', 'NerdCast ', '', '', '', 'Papo de Parceiro ', '', '', 'Lá do Bunker ', '', '', '', 'Caneca de Mamicas ', '', '', '', 'NerdCast ', '', '', '', 'Lá do Bunker ', '', '', '', 'Caneca de Mamicas ', '', '', '', 'NerdCast ', '', '', '', 'NerdTech ', '', '', 'Lá do Bunker ', '', '', '', 'Caneca de Mamicas ', '', '', '', 'NerdCast ', '', '', '', 'Lá do Bunker ', '', '', '', 'Caneca de Mamicas ', '', '', '', 'NerdCast ', '', '', '', 'Papo de Parceiro ', '', '', 'Lá do Bunker ', '', '', '', 'Caneca de Mamicas ', '', '', '', 'NerdCast ', '', '', '', 'Lá do Bunker ', '', '', '', 'Caneca de Mamicas ', '', '', '', 'NerdCast ', '', '', '', 'Lá do Bunker ', '', '', 'Caneca de Mamicas ', '', '', '', 'NerdCast ', '', '', '', 'NerdTech ', '', '', 'Lá do Bunker ', '', '', 'Caneca de Mamicas ', '', '', '', 'NerdCast ', '', '', '', 'Empreendedor ', '', '', 'Lá do Bunker ', '', '', 'Caneca de Mamicas ', '', '', '', 'NerdCast ', '', '', '', 'Papo de Parceiro ', '', '', 'Lá do Bunker ', '', '', 'Caneca de Mamicas ', '', '', '', 'NerdCast ', '', '', '', 'NerdCast BabyCast ', '', 'Lá do Bunker ', '', '', 'Caneca de Mamicas ', '', '', '', 'NerdCast ', '', '', '', 'NerdTech ', '', '', 'Generacast ', '', '', 'Lá do Bunker ', '', '', 'Caneca de Mamicas ', '', '', '', 'NerdCast ', '', '', '', 'Lá do Bunker ', '', '', 'Caneca de Mamicas ', '', '', '', 'NerdCast ', '', '', '', 'Papo de Parceiro ', '', '', 'Lá do Bunker ', '', '', 'Caneca de Mamicas ', '', '', '', 'NerdCast ', '', '', '', 'Lá do Bunker ', '', '', 'Caneca de Mamicas ', '', '', '', 'NerdCast ', '', '', '', 'NerdTech ', '', '', 'Lá do Bunker ', '', '', 'Caneca de Mamicas ', '', '', '', 'NerdCast ', '', '', '', 'Lá do Bunker ', '', '', 'Caneca de Mamicas ', '', '', 'NerdCast ', '', '', '', 'Lá do Bunker ', '', '', 'Caneca de Mamicas ', '', '', 'NerdCast ', '', '', '', 'Papo de Parceiro ', '', '', 'Lá do Bunker ', '', '', 'Caneca de Mamicas ', '', '', 'NerdCast ', '', '', '', 'Lá do Bunker Oscar ', '', '', 'Lá do Bunker ', '', '', 'Caneca de Mamicas ', '', '', 'NerdCast ', '', '', '', 'NerdTech ', '', '', 'Lá do Bunker Oscar ', '', '', 'Lá do Bunker ', '', '', 'Caneca de Mamicas ', '', '', 'NerdCast ', '', '', '', 'Mau Acompanhado ', '', '', 'Lá do Bunker Oscar ', '', '', 'Lá do Bunker ', '', '', 'Caneca de Mamicas ', '', '', 'NerdCast ', '', '', '', 'Papo de Parceiro ', '', '', 'Lá do Bunker Oscar ', '', '', 'Lá do Bunker ', '', '', 'Caneca de Mamicas ', '', '', 'NerdCast ', '', '', '', 'Empreendedor ', '', '', 'Lá do Bunker Oscar ', '', '', 'Lá do Bunker ', '', '', 'Caneca de Mamicas ', '', '', 'NerdCast ', '', '', '', 'NerdTech ', '', '', 'Lá do Bunker Oscar ', '', '', 'Lá do Bunker ', '', '', 'Caneca de Mamicas ', '', '', 'NerdCast ', '', '', '', 'Lá do Bunker ', '', '', 'Caneca de Mamicas ', '', '', 'NerdCast ', '', '', '', 'Papo de Parceiro ', '', '', 'Lá do Bunker ', '', '', 'Caneca de Mamicas ', '', '', 'NerdCast ', '', '', '', 'Mau Acompanhado ', '', '', 'Lá do Bunker ', '', '', 'Caneca de Mamicas ', '', '', 'NerdCast ', '', '', '', 'NerdTech ', '', '', 'Lá do Bunker ', '', '', 'Caneca de Mamicas ', '', '', 'NerdCast ', '', '', '', 'Lá do Bunker ', '', '', 'Caneca de Mamicas ', '', '', 'NerdCast ', '', '', '', 'Papo de Parceiro ', '', '', 'Vai te Catar ', '', '', 'Lá do Bunker ', '', '', 'Vai te Catar ', '', '', 'Caneca de Mamicas ', '', '', 'Vai te Catar ', '', '', 'NerdCast ', '', '', '', 'Vai te Catar ', '', '', 'Vai te Catar ', '', '']\n"
          ]
        }
      ]
    },
    {
      "cell_type": "code",
      "source": [
        "list_number = []\n",
        "\n",
        "for item in df['Podcast']:\n",
        "  this = re.split(r'[a-z A-Z á-ú]', item)\n",
        "\n",
        "  list_number.extend(this)"
      ],
      "metadata": {
        "id": "tnR-kEUq4CsX"
      },
      "execution_count": 147,
      "outputs": []
    },
    {
      "cell_type": "code",
      "source": [
        "text_new = []\n",
        "\n",
        "text_new = [item.strip() for item in list_text if item != '']"
      ],
      "metadata": {
        "id": "vDzSIjat3VCi"
      },
      "execution_count": 160,
      "outputs": []
    },
    {
      "cell_type": "code",
      "source": [
        "print(text_new)"
      ],
      "metadata": {
        "colab": {
          "base_uri": "https://localhost:8080/"
        },
        "id": "2C_ua7oX-Y9q",
        "outputId": "6d69d46b-00c6-46c8-e555-b61e651cacae"
      },
      "execution_count": 161,
      "outputs": [
        {
          "output_type": "stream",
          "name": "stdout",
          "text": [
            "['Caneca de Mamicas', 'NerdCast', 'NerdTech', 'Lá do Bunker', 'Caneca de Mamicas', 'NerdCast', 'Papo de Parceiro', 'Lá do Bunker', 'Caneca de Mamicas', 'NerdCast', 'Lá do Bunker', 'Caneca de Mamicas', 'NerdCast', 'Lá do Bunker', 'Caneca de Mamicas', 'NerdCast', 'NerdTech', 'Lá do Bunker', 'Caneca de Mamicas', 'NerdCast', 'NerdTech', 'Lá do Bunker', 'Caneca de Mamicas', 'NerdCast', 'Lá do Bunker', 'Caneca de Mamicas', 'NerdCast', 'Papo de Parceiro', 'Lá do Bunker', 'Caneca de Mamicas', 'NerdCast', 'Lá do Bunker', 'Caneca de Mamicas', 'NerdCast', 'Lá do Bunker', 'Caneca de Mamicas', 'NerdCast', 'NerdTech', 'Lá do Bunker', 'Caneca de Mamicas', 'NerdCast', 'Papo de Parceiro', 'Lá do Bunker', 'Caneca de Mamicas', 'NerdCast', 'Lá do Bunker', 'Caneca de Mamicas', 'NerdCast', 'Lá do Bunker', 'Caneca de Mamicas', 'NerdCast', 'NerdTech', 'Lá do Bunker', 'Caneca de Mamicas', 'NerdCast', 'Lá do Bunker', 'Caneca de Mamicas', 'NerdCast', 'Papo de Parceiro', 'Lá do Bunker', 'Caneca de Mamicas', 'NerdCast', 'Lá do Bunker', 'Caneca de Mamicas', 'NerdCast', 'NerdTech', 'Lá do Bunker', 'Caneca de Mamicas', 'NerdCast', 'Lá do Bunker', 'Caneca de Mamicas', 'NerdCast', 'Papo de Parceiro', 'Lá do Bunker', 'Caneca de Mamicas', 'NerdCast', 'Lá do Bunker', 'Caneca de Mamicas', 'NerdCast', 'Lá do Bunker', 'Caneca de Mamicas', 'NerdCast', 'NerdTech', 'Lá do Bunker', 'Caneca de Mamicas', 'NerdCast', 'Empreendedor', 'Lá do Bunker', 'Caneca de Mamicas', 'NerdCast', 'Papo de Parceiro', 'Lá do Bunker', 'Caneca de Mamicas', 'NerdCast', 'NerdCast BabyCast', 'Lá do Bunker', 'Caneca de Mamicas', 'NerdCast', 'NerdTech', 'Generacast', 'Lá do Bunker', 'Caneca de Mamicas', 'NerdCast', 'Lá do Bunker', 'Caneca de Mamicas', 'NerdCast', 'Papo de Parceiro', 'Lá do Bunker', 'Caneca de Mamicas', 'NerdCast', 'Lá do Bunker', 'Caneca de Mamicas', 'NerdCast', 'NerdTech', 'Lá do Bunker', 'Caneca de Mamicas', 'NerdCast', 'Lá do Bunker', 'Caneca de Mamicas', 'NerdCast', 'Lá do Bunker', 'Caneca de Mamicas', 'NerdCast', 'Papo de Parceiro', 'Lá do Bunker', 'Caneca de Mamicas', 'NerdCast', 'Lá do Bunker Oscar', 'Lá do Bunker', 'Caneca de Mamicas', 'NerdCast', 'NerdTech', 'Lá do Bunker Oscar', 'Lá do Bunker', 'Caneca de Mamicas', 'NerdCast', 'Mau Acompanhado', 'Lá do Bunker Oscar', 'Lá do Bunker', 'Caneca de Mamicas', 'NerdCast', 'Papo de Parceiro', 'Lá do Bunker Oscar', 'Lá do Bunker', 'Caneca de Mamicas', 'NerdCast', 'Empreendedor', 'Lá do Bunker Oscar', 'Lá do Bunker', 'Caneca de Mamicas', 'NerdCast', 'NerdTech', 'Lá do Bunker Oscar', 'Lá do Bunker', 'Caneca de Mamicas', 'NerdCast', 'Lá do Bunker', 'Caneca de Mamicas', 'NerdCast', 'Papo de Parceiro', 'Lá do Bunker', 'Caneca de Mamicas', 'NerdCast', 'Mau Acompanhado', 'Lá do Bunker', 'Caneca de Mamicas', 'NerdCast', 'NerdTech', 'Lá do Bunker', 'Caneca de Mamicas', 'NerdCast', 'Lá do Bunker', 'Caneca de Mamicas', 'NerdCast', 'Papo de Parceiro', 'Vai te Catar', 'Lá do Bunker', 'Vai te Catar', 'Caneca de Mamicas', 'Vai te Catar', 'NerdCast', 'Vai te Catar', 'Vai te Catar']\n"
          ]
        }
      ]
    },
    {
      "cell_type": "code",
      "source": [
        "number_new = []\n",
        "\n",
        "number_new = [item for item in list_number if item != '']"
      ],
      "metadata": {
        "id": "nr8hlJq54lJh"
      },
      "execution_count": 149,
      "outputs": []
    },
    {
      "cell_type": "code",
      "source": [
        "df.insert(len(df.columns) - 1, column = 'Numero', value = 0)"
      ],
      "metadata": {
        "id": "h5w0ASmg3wiS"
      },
      "execution_count": 150,
      "outputs": []
    },
    {
      "cell_type": "code",
      "source": [
        "df['Numero'] = number_new\n",
        "df['Podcast'] = text_new"
      ],
      "metadata": {
        "id": "7i6BCKa_DtWu"
      },
      "execution_count": 162,
      "outputs": []
    },
    {
      "cell_type": "code",
      "source": [
        "df.head()"
      ],
      "metadata": {
        "id": "OPpifhGeIhK_",
        "colab": {
          "base_uri": "https://localhost:8080/",
          "height": 206
        },
        "outputId": "04f4a2ae-af31-4ab8-de12-88ffb05c97a0"
      },
      "execution_count": 163,
      "outputs": [
        {
          "output_type": "execute_result",
          "data": {
            "text/plain": [
              "   ID            Podcast Numero  \\\n",
              "0   1  Caneca de Mamicas    131   \n",
              "1   2           NerdCast    906   \n",
              "2   3           NerdTech     93   \n",
              "3   4       Lá do Bunker    120   \n",
              "7   5  Caneca de Mamicas    130   \n",
              "\n",
              "                                                Link  \n",
              "0  https://jovemnerd.com.br/nerdcast/caneca-de-ma...  \n",
              "1  https://jovemnerd.com.br/nerdcast/bastidores-d...  \n",
              "2  https://jovemnerd.com.br/nerdcast/nerdtech/o-q...  \n",
              "3  https://jovemnerd.com.br/nerdcast/la-do-bunker...  \n",
              "7  https://jovemnerd.com.br/nerdcast/caneca-de-ma...  "
            ],
            "text/html": [
              "\n",
              "  <div id=\"df-368dfa9b-2204-453b-98c8-10448c8266ff\" class=\"colab-df-container\">\n",
              "    <div>\n",
              "<style scoped>\n",
              "    .dataframe tbody tr th:only-of-type {\n",
              "        vertical-align: middle;\n",
              "    }\n",
              "\n",
              "    .dataframe tbody tr th {\n",
              "        vertical-align: top;\n",
              "    }\n",
              "\n",
              "    .dataframe thead th {\n",
              "        text-align: right;\n",
              "    }\n",
              "</style>\n",
              "<table border=\"1\" class=\"dataframe\">\n",
              "  <thead>\n",
              "    <tr style=\"text-align: right;\">\n",
              "      <th></th>\n",
              "      <th>ID</th>\n",
              "      <th>Podcast</th>\n",
              "      <th>Numero</th>\n",
              "      <th>Link</th>\n",
              "    </tr>\n",
              "  </thead>\n",
              "  <tbody>\n",
              "    <tr>\n",
              "      <th>0</th>\n",
              "      <td>1</td>\n",
              "      <td>Caneca de Mamicas</td>\n",
              "      <td>131</td>\n",
              "      <td>https://jovemnerd.com.br/nerdcast/caneca-de-ma...</td>\n",
              "    </tr>\n",
              "    <tr>\n",
              "      <th>1</th>\n",
              "      <td>2</td>\n",
              "      <td>NerdCast</td>\n",
              "      <td>906</td>\n",
              "      <td>https://jovemnerd.com.br/nerdcast/bastidores-d...</td>\n",
              "    </tr>\n",
              "    <tr>\n",
              "      <th>2</th>\n",
              "      <td>3</td>\n",
              "      <td>NerdTech</td>\n",
              "      <td>93</td>\n",
              "      <td>https://jovemnerd.com.br/nerdcast/nerdtech/o-q...</td>\n",
              "    </tr>\n",
              "    <tr>\n",
              "      <th>3</th>\n",
              "      <td>4</td>\n",
              "      <td>Lá do Bunker</td>\n",
              "      <td>120</td>\n",
              "      <td>https://jovemnerd.com.br/nerdcast/la-do-bunker...</td>\n",
              "    </tr>\n",
              "    <tr>\n",
              "      <th>7</th>\n",
              "      <td>5</td>\n",
              "      <td>Caneca de Mamicas</td>\n",
              "      <td>130</td>\n",
              "      <td>https://jovemnerd.com.br/nerdcast/caneca-de-ma...</td>\n",
              "    </tr>\n",
              "  </tbody>\n",
              "</table>\n",
              "</div>\n",
              "    <div class=\"colab-df-buttons\">\n",
              "\n",
              "  <div class=\"colab-df-container\">\n",
              "    <button class=\"colab-df-convert\" onclick=\"convertToInteractive('df-368dfa9b-2204-453b-98c8-10448c8266ff')\"\n",
              "            title=\"Convert this dataframe to an interactive table.\"\n",
              "            style=\"display:none;\">\n",
              "\n",
              "  <svg xmlns=\"http://www.w3.org/2000/svg\" height=\"24px\" viewBox=\"0 -960 960 960\">\n",
              "    <path d=\"M120-120v-720h720v720H120Zm60-500h600v-160H180v160Zm220 220h160v-160H400v160Zm0 220h160v-160H400v160ZM180-400h160v-160H180v160Zm440 0h160v-160H620v160ZM180-180h160v-160H180v160Zm440 0h160v-160H620v160Z\"/>\n",
              "  </svg>\n",
              "    </button>\n",
              "\n",
              "  <style>\n",
              "    .colab-df-container {\n",
              "      display:flex;\n",
              "      gap: 12px;\n",
              "    }\n",
              "\n",
              "    .colab-df-convert {\n",
              "      background-color: #E8F0FE;\n",
              "      border: none;\n",
              "      border-radius: 50%;\n",
              "      cursor: pointer;\n",
              "      display: none;\n",
              "      fill: #1967D2;\n",
              "      height: 32px;\n",
              "      padding: 0 0 0 0;\n",
              "      width: 32px;\n",
              "    }\n",
              "\n",
              "    .colab-df-convert:hover {\n",
              "      background-color: #E2EBFA;\n",
              "      box-shadow: 0px 1px 2px rgba(60, 64, 67, 0.3), 0px 1px 3px 1px rgba(60, 64, 67, 0.15);\n",
              "      fill: #174EA6;\n",
              "    }\n",
              "\n",
              "    .colab-df-buttons div {\n",
              "      margin-bottom: 4px;\n",
              "    }\n",
              "\n",
              "    [theme=dark] .colab-df-convert {\n",
              "      background-color: #3B4455;\n",
              "      fill: #D2E3FC;\n",
              "    }\n",
              "\n",
              "    [theme=dark] .colab-df-convert:hover {\n",
              "      background-color: #434B5C;\n",
              "      box-shadow: 0px 1px 3px 1px rgba(0, 0, 0, 0.15);\n",
              "      filter: drop-shadow(0px 1px 2px rgba(0, 0, 0, 0.3));\n",
              "      fill: #FFFFFF;\n",
              "    }\n",
              "  </style>\n",
              "\n",
              "    <script>\n",
              "      const buttonEl =\n",
              "        document.querySelector('#df-368dfa9b-2204-453b-98c8-10448c8266ff button.colab-df-convert');\n",
              "      buttonEl.style.display =\n",
              "        google.colab.kernel.accessAllowed ? 'block' : 'none';\n",
              "\n",
              "      async function convertToInteractive(key) {\n",
              "        const element = document.querySelector('#df-368dfa9b-2204-453b-98c8-10448c8266ff');\n",
              "        const dataTable =\n",
              "          await google.colab.kernel.invokeFunction('convertToInteractive',\n",
              "                                                    [key], {});\n",
              "        if (!dataTable) return;\n",
              "\n",
              "        const docLinkHtml = 'Like what you see? Visit the ' +\n",
              "          '<a target=\"_blank\" href=https://colab.research.google.com/notebooks/data_table.ipynb>data table notebook</a>'\n",
              "          + ' to learn more about interactive tables.';\n",
              "        element.innerHTML = '';\n",
              "        dataTable['output_type'] = 'display_data';\n",
              "        await google.colab.output.renderOutput(dataTable, element);\n",
              "        const docLink = document.createElement('div');\n",
              "        docLink.innerHTML = docLinkHtml;\n",
              "        element.appendChild(docLink);\n",
              "      }\n",
              "    </script>\n",
              "  </div>\n",
              "\n",
              "\n",
              "<div id=\"df-2cd5a6e8-bd3c-4237-9bfd-82fab743e1f5\">\n",
              "  <button class=\"colab-df-quickchart\" onclick=\"quickchart('df-2cd5a6e8-bd3c-4237-9bfd-82fab743e1f5')\"\n",
              "            title=\"Suggest charts.\"\n",
              "            style=\"display:none;\">\n",
              "\n",
              "<svg xmlns=\"http://www.w3.org/2000/svg\" height=\"24px\"viewBox=\"0 0 24 24\"\n",
              "     width=\"24px\">\n",
              "    <g>\n",
              "        <path d=\"M19 3H5c-1.1 0-2 .9-2 2v14c0 1.1.9 2 2 2h14c1.1 0 2-.9 2-2V5c0-1.1-.9-2-2-2zM9 17H7v-7h2v7zm4 0h-2V7h2v10zm4 0h-2v-4h2v4z\"/>\n",
              "    </g>\n",
              "</svg>\n",
              "  </button>\n",
              "\n",
              "<style>\n",
              "  .colab-df-quickchart {\n",
              "      --bg-color: #E8F0FE;\n",
              "      --fill-color: #1967D2;\n",
              "      --hover-bg-color: #E2EBFA;\n",
              "      --hover-fill-color: #174EA6;\n",
              "      --disabled-fill-color: #AAA;\n",
              "      --disabled-bg-color: #DDD;\n",
              "  }\n",
              "\n",
              "  [theme=dark] .colab-df-quickchart {\n",
              "      --bg-color: #3B4455;\n",
              "      --fill-color: #D2E3FC;\n",
              "      --hover-bg-color: #434B5C;\n",
              "      --hover-fill-color: #FFFFFF;\n",
              "      --disabled-bg-color: #3B4455;\n",
              "      --disabled-fill-color: #666;\n",
              "  }\n",
              "\n",
              "  .colab-df-quickchart {\n",
              "    background-color: var(--bg-color);\n",
              "    border: none;\n",
              "    border-radius: 50%;\n",
              "    cursor: pointer;\n",
              "    display: none;\n",
              "    fill: var(--fill-color);\n",
              "    height: 32px;\n",
              "    padding: 0;\n",
              "    width: 32px;\n",
              "  }\n",
              "\n",
              "  .colab-df-quickchart:hover {\n",
              "    background-color: var(--hover-bg-color);\n",
              "    box-shadow: 0 1px 2px rgba(60, 64, 67, 0.3), 0 1px 3px 1px rgba(60, 64, 67, 0.15);\n",
              "    fill: var(--button-hover-fill-color);\n",
              "  }\n",
              "\n",
              "  .colab-df-quickchart-complete:disabled,\n",
              "  .colab-df-quickchart-complete:disabled:hover {\n",
              "    background-color: var(--disabled-bg-color);\n",
              "    fill: var(--disabled-fill-color);\n",
              "    box-shadow: none;\n",
              "  }\n",
              "\n",
              "  .colab-df-spinner {\n",
              "    border: 2px solid var(--fill-color);\n",
              "    border-color: transparent;\n",
              "    border-bottom-color: var(--fill-color);\n",
              "    animation:\n",
              "      spin 1s steps(1) infinite;\n",
              "  }\n",
              "\n",
              "  @keyframes spin {\n",
              "    0% {\n",
              "      border-color: transparent;\n",
              "      border-bottom-color: var(--fill-color);\n",
              "      border-left-color: var(--fill-color);\n",
              "    }\n",
              "    20% {\n",
              "      border-color: transparent;\n",
              "      border-left-color: var(--fill-color);\n",
              "      border-top-color: var(--fill-color);\n",
              "    }\n",
              "    30% {\n",
              "      border-color: transparent;\n",
              "      border-left-color: var(--fill-color);\n",
              "      border-top-color: var(--fill-color);\n",
              "      border-right-color: var(--fill-color);\n",
              "    }\n",
              "    40% {\n",
              "      border-color: transparent;\n",
              "      border-right-color: var(--fill-color);\n",
              "      border-top-color: var(--fill-color);\n",
              "    }\n",
              "    60% {\n",
              "      border-color: transparent;\n",
              "      border-right-color: var(--fill-color);\n",
              "    }\n",
              "    80% {\n",
              "      border-color: transparent;\n",
              "      border-right-color: var(--fill-color);\n",
              "      border-bottom-color: var(--fill-color);\n",
              "    }\n",
              "    90% {\n",
              "      border-color: transparent;\n",
              "      border-bottom-color: var(--fill-color);\n",
              "    }\n",
              "  }\n",
              "</style>\n",
              "\n",
              "  <script>\n",
              "    async function quickchart(key) {\n",
              "      const quickchartButtonEl =\n",
              "        document.querySelector('#' + key + ' button');\n",
              "      quickchartButtonEl.disabled = true;  // To prevent multiple clicks.\n",
              "      quickchartButtonEl.classList.add('colab-df-spinner');\n",
              "      try {\n",
              "        const charts = await google.colab.kernel.invokeFunction(\n",
              "            'suggestCharts', [key], {});\n",
              "      } catch (error) {\n",
              "        console.error('Error during call to suggestCharts:', error);\n",
              "      }\n",
              "      quickchartButtonEl.classList.remove('colab-df-spinner');\n",
              "      quickchartButtonEl.classList.add('colab-df-quickchart-complete');\n",
              "    }\n",
              "    (() => {\n",
              "      let quickchartButtonEl =\n",
              "        document.querySelector('#df-2cd5a6e8-bd3c-4237-9bfd-82fab743e1f5 button');\n",
              "      quickchartButtonEl.style.display =\n",
              "        google.colab.kernel.accessAllowed ? 'block' : 'none';\n",
              "    })();\n",
              "  </script>\n",
              "</div>\n",
              "    </div>\n",
              "  </div>\n"
            ]
          },
          "metadata": {},
          "execution_count": 163
        }
      ]
    },
    {
      "cell_type": "code",
      "source": [
        "df2.head()"
      ],
      "metadata": {
        "colab": {
          "base_uri": "https://localhost:8080/",
          "height": 206
        },
        "id": "Thk6qp-fClFv",
        "outputId": "9fbba034-e76a-4a29-976a-9013ca5fd0b4"
      },
      "execution_count": 153,
      "outputs": [
        {
          "output_type": "execute_result",
          "data": {
            "text/plain": [
              "   ID                               Assunto  \\\n",
              "0   1                   Só sei que NASA sei   \n",
              "1   2             Bastidores de um jogo AAA   \n",
              "2   3  O que esperar dos novos smartphones?   \n",
              "3   4                  Variável do macarrão   \n",
              "4   5     Cole na ciência e fuja dos hypes!   \n",
              "\n",
              "                                                Link  \n",
              "0  https://jovemnerd.com.br/nerdcast/caneca-de-ma...  \n",
              "1  https://jovemnerd.com.br/nerdcast/bastidores-d...  \n",
              "2  https://jovemnerd.com.br/nerdcast/nerdtech/o-q...  \n",
              "3  https://jovemnerd.com.br/nerdcast/la-do-bunker...  \n",
              "4  https://jovemnerd.com.br/nerdcast/caneca-de-ma...  "
            ],
            "text/html": [
              "\n",
              "  <div id=\"df-d819e7a1-76db-4b6d-9a6c-df2653e655b1\" class=\"colab-df-container\">\n",
              "    <div>\n",
              "<style scoped>\n",
              "    .dataframe tbody tr th:only-of-type {\n",
              "        vertical-align: middle;\n",
              "    }\n",
              "\n",
              "    .dataframe tbody tr th {\n",
              "        vertical-align: top;\n",
              "    }\n",
              "\n",
              "    .dataframe thead th {\n",
              "        text-align: right;\n",
              "    }\n",
              "</style>\n",
              "<table border=\"1\" class=\"dataframe\">\n",
              "  <thead>\n",
              "    <tr style=\"text-align: right;\">\n",
              "      <th></th>\n",
              "      <th>ID</th>\n",
              "      <th>Assunto</th>\n",
              "      <th>Link</th>\n",
              "    </tr>\n",
              "  </thead>\n",
              "  <tbody>\n",
              "    <tr>\n",
              "      <th>0</th>\n",
              "      <td>1</td>\n",
              "      <td>Só sei que NASA sei</td>\n",
              "      <td>https://jovemnerd.com.br/nerdcast/caneca-de-ma...</td>\n",
              "    </tr>\n",
              "    <tr>\n",
              "      <th>1</th>\n",
              "      <td>2</td>\n",
              "      <td>Bastidores de um jogo AAA</td>\n",
              "      <td>https://jovemnerd.com.br/nerdcast/bastidores-d...</td>\n",
              "    </tr>\n",
              "    <tr>\n",
              "      <th>2</th>\n",
              "      <td>3</td>\n",
              "      <td>O que esperar dos novos smartphones?</td>\n",
              "      <td>https://jovemnerd.com.br/nerdcast/nerdtech/o-q...</td>\n",
              "    </tr>\n",
              "    <tr>\n",
              "      <th>3</th>\n",
              "      <td>4</td>\n",
              "      <td>Variável do macarrão</td>\n",
              "      <td>https://jovemnerd.com.br/nerdcast/la-do-bunker...</td>\n",
              "    </tr>\n",
              "    <tr>\n",
              "      <th>4</th>\n",
              "      <td>5</td>\n",
              "      <td>Cole na ciência e fuja dos hypes!</td>\n",
              "      <td>https://jovemnerd.com.br/nerdcast/caneca-de-ma...</td>\n",
              "    </tr>\n",
              "  </tbody>\n",
              "</table>\n",
              "</div>\n",
              "    <div class=\"colab-df-buttons\">\n",
              "\n",
              "  <div class=\"colab-df-container\">\n",
              "    <button class=\"colab-df-convert\" onclick=\"convertToInteractive('df-d819e7a1-76db-4b6d-9a6c-df2653e655b1')\"\n",
              "            title=\"Convert this dataframe to an interactive table.\"\n",
              "            style=\"display:none;\">\n",
              "\n",
              "  <svg xmlns=\"http://www.w3.org/2000/svg\" height=\"24px\" viewBox=\"0 -960 960 960\">\n",
              "    <path d=\"M120-120v-720h720v720H120Zm60-500h600v-160H180v160Zm220 220h160v-160H400v160Zm0 220h160v-160H400v160ZM180-400h160v-160H180v160Zm440 0h160v-160H620v160ZM180-180h160v-160H180v160Zm440 0h160v-160H620v160Z\"/>\n",
              "  </svg>\n",
              "    </button>\n",
              "\n",
              "  <style>\n",
              "    .colab-df-container {\n",
              "      display:flex;\n",
              "      gap: 12px;\n",
              "    }\n",
              "\n",
              "    .colab-df-convert {\n",
              "      background-color: #E8F0FE;\n",
              "      border: none;\n",
              "      border-radius: 50%;\n",
              "      cursor: pointer;\n",
              "      display: none;\n",
              "      fill: #1967D2;\n",
              "      height: 32px;\n",
              "      padding: 0 0 0 0;\n",
              "      width: 32px;\n",
              "    }\n",
              "\n",
              "    .colab-df-convert:hover {\n",
              "      background-color: #E2EBFA;\n",
              "      box-shadow: 0px 1px 2px rgba(60, 64, 67, 0.3), 0px 1px 3px 1px rgba(60, 64, 67, 0.15);\n",
              "      fill: #174EA6;\n",
              "    }\n",
              "\n",
              "    .colab-df-buttons div {\n",
              "      margin-bottom: 4px;\n",
              "    }\n",
              "\n",
              "    [theme=dark] .colab-df-convert {\n",
              "      background-color: #3B4455;\n",
              "      fill: #D2E3FC;\n",
              "    }\n",
              "\n",
              "    [theme=dark] .colab-df-convert:hover {\n",
              "      background-color: #434B5C;\n",
              "      box-shadow: 0px 1px 3px 1px rgba(0, 0, 0, 0.15);\n",
              "      filter: drop-shadow(0px 1px 2px rgba(0, 0, 0, 0.3));\n",
              "      fill: #FFFFFF;\n",
              "    }\n",
              "  </style>\n",
              "\n",
              "    <script>\n",
              "      const buttonEl =\n",
              "        document.querySelector('#df-d819e7a1-76db-4b6d-9a6c-df2653e655b1 button.colab-df-convert');\n",
              "      buttonEl.style.display =\n",
              "        google.colab.kernel.accessAllowed ? 'block' : 'none';\n",
              "\n",
              "      async function convertToInteractive(key) {\n",
              "        const element = document.querySelector('#df-d819e7a1-76db-4b6d-9a6c-df2653e655b1');\n",
              "        const dataTable =\n",
              "          await google.colab.kernel.invokeFunction('convertToInteractive',\n",
              "                                                    [key], {});\n",
              "        if (!dataTable) return;\n",
              "\n",
              "        const docLinkHtml = 'Like what you see? Visit the ' +\n",
              "          '<a target=\"_blank\" href=https://colab.research.google.com/notebooks/data_table.ipynb>data table notebook</a>'\n",
              "          + ' to learn more about interactive tables.';\n",
              "        element.innerHTML = '';\n",
              "        dataTable['output_type'] = 'display_data';\n",
              "        await google.colab.output.renderOutput(dataTable, element);\n",
              "        const docLink = document.createElement('div');\n",
              "        docLink.innerHTML = docLinkHtml;\n",
              "        element.appendChild(docLink);\n",
              "      }\n",
              "    </script>\n",
              "  </div>\n",
              "\n",
              "\n",
              "<div id=\"df-43496483-3d4f-47ab-8814-4198ab38f277\">\n",
              "  <button class=\"colab-df-quickchart\" onclick=\"quickchart('df-43496483-3d4f-47ab-8814-4198ab38f277')\"\n",
              "            title=\"Suggest charts.\"\n",
              "            style=\"display:none;\">\n",
              "\n",
              "<svg xmlns=\"http://www.w3.org/2000/svg\" height=\"24px\"viewBox=\"0 0 24 24\"\n",
              "     width=\"24px\">\n",
              "    <g>\n",
              "        <path d=\"M19 3H5c-1.1 0-2 .9-2 2v14c0 1.1.9 2 2 2h14c1.1 0 2-.9 2-2V5c0-1.1-.9-2-2-2zM9 17H7v-7h2v7zm4 0h-2V7h2v10zm4 0h-2v-4h2v4z\"/>\n",
              "    </g>\n",
              "</svg>\n",
              "  </button>\n",
              "\n",
              "<style>\n",
              "  .colab-df-quickchart {\n",
              "      --bg-color: #E8F0FE;\n",
              "      --fill-color: #1967D2;\n",
              "      --hover-bg-color: #E2EBFA;\n",
              "      --hover-fill-color: #174EA6;\n",
              "      --disabled-fill-color: #AAA;\n",
              "      --disabled-bg-color: #DDD;\n",
              "  }\n",
              "\n",
              "  [theme=dark] .colab-df-quickchart {\n",
              "      --bg-color: #3B4455;\n",
              "      --fill-color: #D2E3FC;\n",
              "      --hover-bg-color: #434B5C;\n",
              "      --hover-fill-color: #FFFFFF;\n",
              "      --disabled-bg-color: #3B4455;\n",
              "      --disabled-fill-color: #666;\n",
              "  }\n",
              "\n",
              "  .colab-df-quickchart {\n",
              "    background-color: var(--bg-color);\n",
              "    border: none;\n",
              "    border-radius: 50%;\n",
              "    cursor: pointer;\n",
              "    display: none;\n",
              "    fill: var(--fill-color);\n",
              "    height: 32px;\n",
              "    padding: 0;\n",
              "    width: 32px;\n",
              "  }\n",
              "\n",
              "  .colab-df-quickchart:hover {\n",
              "    background-color: var(--hover-bg-color);\n",
              "    box-shadow: 0 1px 2px rgba(60, 64, 67, 0.3), 0 1px 3px 1px rgba(60, 64, 67, 0.15);\n",
              "    fill: var(--button-hover-fill-color);\n",
              "  }\n",
              "\n",
              "  .colab-df-quickchart-complete:disabled,\n",
              "  .colab-df-quickchart-complete:disabled:hover {\n",
              "    background-color: var(--disabled-bg-color);\n",
              "    fill: var(--disabled-fill-color);\n",
              "    box-shadow: none;\n",
              "  }\n",
              "\n",
              "  .colab-df-spinner {\n",
              "    border: 2px solid var(--fill-color);\n",
              "    border-color: transparent;\n",
              "    border-bottom-color: var(--fill-color);\n",
              "    animation:\n",
              "      spin 1s steps(1) infinite;\n",
              "  }\n",
              "\n",
              "  @keyframes spin {\n",
              "    0% {\n",
              "      border-color: transparent;\n",
              "      border-bottom-color: var(--fill-color);\n",
              "      border-left-color: var(--fill-color);\n",
              "    }\n",
              "    20% {\n",
              "      border-color: transparent;\n",
              "      border-left-color: var(--fill-color);\n",
              "      border-top-color: var(--fill-color);\n",
              "    }\n",
              "    30% {\n",
              "      border-color: transparent;\n",
              "      border-left-color: var(--fill-color);\n",
              "      border-top-color: var(--fill-color);\n",
              "      border-right-color: var(--fill-color);\n",
              "    }\n",
              "    40% {\n",
              "      border-color: transparent;\n",
              "      border-right-color: var(--fill-color);\n",
              "      border-top-color: var(--fill-color);\n",
              "    }\n",
              "    60% {\n",
              "      border-color: transparent;\n",
              "      border-right-color: var(--fill-color);\n",
              "    }\n",
              "    80% {\n",
              "      border-color: transparent;\n",
              "      border-right-color: var(--fill-color);\n",
              "      border-bottom-color: var(--fill-color);\n",
              "    }\n",
              "    90% {\n",
              "      border-color: transparent;\n",
              "      border-bottom-color: var(--fill-color);\n",
              "    }\n",
              "  }\n",
              "</style>\n",
              "\n",
              "  <script>\n",
              "    async function quickchart(key) {\n",
              "      const quickchartButtonEl =\n",
              "        document.querySelector('#' + key + ' button');\n",
              "      quickchartButtonEl.disabled = true;  // To prevent multiple clicks.\n",
              "      quickchartButtonEl.classList.add('colab-df-spinner');\n",
              "      try {\n",
              "        const charts = await google.colab.kernel.invokeFunction(\n",
              "            'suggestCharts', [key], {});\n",
              "      } catch (error) {\n",
              "        console.error('Error during call to suggestCharts:', error);\n",
              "      }\n",
              "      quickchartButtonEl.classList.remove('colab-df-spinner');\n",
              "      quickchartButtonEl.classList.add('colab-df-quickchart-complete');\n",
              "    }\n",
              "    (() => {\n",
              "      let quickchartButtonEl =\n",
              "        document.querySelector('#df-43496483-3d4f-47ab-8814-4198ab38f277 button');\n",
              "      quickchartButtonEl.style.display =\n",
              "        google.colab.kernel.accessAllowed ? 'block' : 'none';\n",
              "    })();\n",
              "  </script>\n",
              "</div>\n",
              "    </div>\n",
              "  </div>\n"
            ]
          },
          "metadata": {},
          "execution_count": 153
        }
      ]
    }
  ]
}